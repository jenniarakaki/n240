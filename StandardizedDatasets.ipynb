{
 "cells": [
  {
   "cell_type": "markdown",
   "id": "a9452d82-0bcc-439b-a136-34a6a2bbd6fe",
   "metadata": {},
   "source": [
    "Configure."
   ]
  },
  {
   "cell_type": "code",
   "execution_count": 2,
   "id": "273f0e0e-e6b8-4426-963e-1f300b4b77f4",
   "metadata": {},
   "outputs": [],
   "source": [
    "# TRAINING SETTINGS\n",
    "NUM_EPOCHS = 8\n",
    "\n",
    "\n",
    "# LEARNING RATE SETTINGS\n",
    "BASE_LR = 0.001\n",
    "DECAY_WEIGHT = 0.1 # factor by which the learning rate is reduced.\n",
    "EPOCH_DECAY = 30 # number of epochs after which the learning rate is decayed exponentially by DECAY_WEIGHT.\n",
    "\n",
    "\n",
    "# DATASET INFO\n",
    "NUM_CLASSES = 8 # set the number of classes in your dataset\n",
    "DATA_DIR = '/shared/home/jea040/Final_Project/data'\n",
    "\n",
    "\n",
    "# DATALOADER PROPERTIES\n",
    "BATCH_SIZE = 32\n",
    "\n",
    "\n",
    "# GPU SETTINGS\n",
    "CUDA_DEVICE = 0 # Enter device ID of your gpu if you want to run on gpu. Otherwise neglect.\n",
    "GPU_MODE = 1 # set to 1 if want to run on gpu."
   ]
  },
  {
   "cell_type": "markdown",
   "id": "de5b3f6b-5f8c-480e-ab7c-5b709d30bd16",
   "metadata": {},
   "source": [
    "Import all packages."
   ]
  },
  {
   "cell_type": "code",
   "execution_count": 3,
   "id": "419085b2-f2c4-4501-94e5-6e5260d7f2e2",
   "metadata": {},
   "outputs": [
    {
     "name": "stderr",
     "output_type": "stream",
     "text": [
      "/shared/spack/opt/spack/linux-amzn2-skylake_avx512/gcc-14.1.0/miniconda3-24.3.0-zxx5jostrj4myhf7bi3oap3ylkmegd3a/envs/neuro140/lib/python3.11/site-packages/tqdm/auto.py:21: TqdmWarning: IProgress not found. Please update jupyter and ipywidgets. See https://ipywidgets.readthedocs.io/en/stable/user_install.html\n",
      "  from .autonotebook import tqdm as notebook_tqdm\n"
     ]
    }
   ],
   "source": [
    "import os\n",
    "import torch\n",
    "from PIL import Image\n",
    "from torch.utils.data import Dataset\n",
    "import pandas as pd\n",
    "from torchvision.models import ResNet18_Weights\n",
    "import torch.nn as nn\n",
    "import torch.optim as optim\n",
    "from torchvision import models, transforms\n",
    "import time\n",
    "import copy\n",
    "import matplotlib.pyplot as plt\n",
    "from torch.utils.data import random_split, DataLoader"
   ]
  },
  {
   "cell_type": "markdown",
   "id": "67056cc8-64fa-4e7b-9ee8-2cad4aad7f71",
   "metadata": {},
   "source": [
    "Define the NIH Dataset using the labels that overlap between the two datasets."
   ]
  },
  {
   "cell_type": "code",
   "execution_count": 8,
   "id": "dd16eac2-e6c1-4f18-97ce-c84abb535afa",
   "metadata": {},
   "outputs": [],
   "source": [
    "# Define the unified label set (including \"Normal\")\n",
    "UNIFIED_LABELS = [\n",
    "    \"atelectasis\", \"cardiomegaly\", \"pleural effusion\", \"infiltration\", \n",
    "    \"nodule\", \"consolidation\", \"pleural thickening\", \"no finding\"\n",
    "]\n",
    "\n",
    "# Define the mapping for \"Finding Labels\" to the unified labels\n",
    "LABEL_MAP_NIH = {\n",
    "    \"atelectasis\": 0,\n",
    "    \"cardiomegaly\": 1,\n",
    "    \"effusion\": 2,\n",
    "    \"infiltration\": 3,\n",
    "    \"nodule\": 4,\n",
    "    \"consolidation\": 5,\n",
    "    \"pleural_thickening\": 6,\n",
    "    \"no finding\": 7\n",
    "}"
   ]
  },
  {
   "cell_type": "code",
   "execution_count": 9,
   "id": "925fb319-2177-4b31-986b-6b2c098972fb",
   "metadata": {},
   "outputs": [],
   "source": [
    "class NIHChestXrayDataset(Dataset):\n",
    "    def __init__(self, images_dir, labels_csv, split_file=None, transform=None):\n",
    "        self.images_dir = images_dir\n",
    "        self.labels_df = pd.read_csv(labels_csv)\n",
    "        self.split_file = split_file\n",
    "        self.transform = transform\n",
    "    \n",
    "        # Filter CSV to match split list BEFORE generating label dict\n",
    "        if self.split_file:\n",
    "            with open(self.split_file, 'r') as f:\n",
    "                keep_files = set(line.strip() for line in f.readlines())\n",
    "            self.labels_df = self.labels_df[self.labels_df['Image Index'].isin(keep_files)]\n",
    "    \n",
    "        # Now build image label dict using the filtered DataFrame\n",
    "        self.image_label_dict = self._get_image_labels()\n",
    "        self.image_filenames = list(self.image_label_dict.keys())\n",
    "\n",
    "\n",
    "    def _get_image_labels(self, max_no_finding=5000):\n",
    "        image_label_dict = {}\n",
    "        no_finding_count = 0\n",
    "    \n",
    "        for index, row in self.labels_df.iterrows():\n",
    "            image_filename = row['Image Index']\n",
    "            label_vector = torch.zeros(len(UNIFIED_LABELS))\n",
    "            finding_labels = row['Finding Labels'].split('|')\n",
    "            finding_labels = [label.strip().lower() for label in finding_labels]\n",
    "    \n",
    "            # Skip if none of the labels are in UNIFIED_LABELS\n",
    "            valid_labels = [label for label in finding_labels if label in LABEL_MAP_NIH]\n",
    "            if not valid_labels:\n",
    "                continue\n",
    "    \n",
    "            # Check if it's a no finding image\n",
    "            is_no_finding = (valid_labels == ['no finding'])\n",
    "    \n",
    "            if is_no_finding:\n",
    "                if no_finding_count >= max_no_finding:\n",
    "                    continue\n",
    "                no_finding_count += 1\n",
    "                label_vector[LABEL_MAP_NIH['no finding']] = 1\n",
    "            else:\n",
    "                for label in valid_labels:\n",
    "                    label_vector[LABEL_MAP_NIH[label]] = 1\n",
    "    \n",
    "            image_label_dict[image_filename] = label_vector\n",
    "    \n",
    "        print(f\"Total valid images (after downsampling): {len(image_label_dict)}\")\n",
    "        return image_label_dict\n",
    "\n",
    "    \n",
    "    def __len__(self):\n",
    "        return len(self.image_filenames)\n",
    "\n",
    "    def __getitem__(self, idx):\n",
    "        image_filename = self.image_filenames[idx]\n",
    "        \n",
    "        # Construct the image path\n",
    "        image_path = os.path.join(self.images_dir, image_filename)\n",
    "        \n",
    "        # Skip if the image does not exist\n",
    "        if not os.path.exists(image_path):  # If image is missing\n",
    "            return None  # Return None if image is missing\n",
    "        \n",
    "        try:\n",
    "            image = Image.open(image_path).convert('RGB')  # Open image\n",
    "        except Exception:\n",
    "            return None  # Skip if image cannot be opened (e.g., corrupted)\n",
    "        \n",
    "        # Get the label vector for the image\n",
    "        label_vector = self.image_label_dict.get(image_filename, torch.zeros(len(UNIFIED_LABELS)))\n",
    "        \n",
    "        # Apply transformations if available\n",
    "        if self.transform:\n",
    "            image = self.transform(image)\n",
    "        \n",
    "        return image, label_vector"
   ]
  },
  {
   "cell_type": "code",
   "execution_count": 10,
   "id": "e09dda07-b5db-47cb-befe-2805528485cf",
   "metadata": {},
   "outputs": [
    {
     "name": "stdout",
     "output_type": "stream",
     "text": [
      "Total valid images: 76400\n",
      "atelectasis: 8280\n",
      "cardiomegaly: 1707\n",
      "pleural effusion: 0\n",
      "infiltration: 13782\n",
      "nodule: 4708\n",
      "consolidation: 2852\n",
      "pleural thickening: 0\n",
      "no finding: 50500\n"
     ]
    }
   ],
   "source": [
    "# Load DataFrame\n",
    "df = pd.read_csv(\"/shared/home/jea040/Final_Project/data/NIH_chestxrays/Data_Entry_2017.csv\")\n",
    "\n",
    "# Restrict to images listed in split file (if desired)\n",
    "with open(\"/shared/home/jea040/Final_Project/data/NIH_chestxrays/train_val_list.txt\", \"r\") as f:\n",
    "    keep_images = set(line.strip() for line in f)\n",
    "\n",
    "df = df[df['Image Index'].isin(keep_images)]\n",
    "\n",
    "# Unified labels and lowercase set for matching\n",
    "valid_labels = set(label.lower() for label in UNIFIED_LABELS)\n",
    "\n",
    "# Per-label count and total valid image counter\n",
    "counts = {label: 0 for label in UNIFIED_LABELS}\n",
    "valid_image_count = 0\n",
    "\n",
    "# Iterate over rows\n",
    "for _, row in df.iterrows():\n",
    "    labels = [label.strip().lower() for label in row['Finding Labels'].split('|')]\n",
    "\n",
    "    # Only count if image has at least one label in our set\n",
    "    if any(label in valid_labels for label in labels):\n",
    "        valid_image_count += 1\n",
    "        for label in labels:\n",
    "            if label in counts:\n",
    "                counts[label] += 1\n",
    "\n",
    "# Output\n",
    "print(f\"Total valid images: {valid_image_count}\")\n",
    "for label in UNIFIED_LABELS:\n",
    "    print(f\"{label}: {counts[label]}\")\n"
   ]
  },
  {
   "cell_type": "markdown",
   "id": "b67c07db-9c67-4d5c-8f38-ff6830042e6b",
   "metadata": {},
   "source": [
    "We can see that 'no finding' is very overrepresented. so I implemented a max feature and that prevents too many no findings."
   ]
  },
  {
   "cell_type": "code",
   "execution_count": 11,
   "id": "bde44f91-2ccd-4d63-aba1-d5bb6c34a444",
   "metadata": {},
   "outputs": [
    {
     "name": "stdout",
     "output_type": "stream",
     "text": [
      "Total valid images (after downsampling): 48877\n",
      "atelectasis: 11559\n",
      "cardiomegaly: 2776\n",
      "pleural effusion: 13317\n",
      "infiltration: 19894\n",
      "nodule: 6331\n",
      "consolidation: 4667\n",
      "pleural thickening: 3385\n",
      "no finding: 5000\n"
     ]
    }
   ],
   "source": [
    "from collections import Counter\n",
    "import torch\n",
    "\n",
    "# Define transformations for train and validation datasets\n",
    "data_transforms = {\n",
    "    'train': transforms.Compose([\n",
    "        transforms.RandomResizedCrop(224),\n",
    "        transforms.RandomHorizontalFlip(),\n",
    "        transforms.ToTensor(),\n",
    "        transforms.Normalize([0.485, 0.485, 0.485], [0.229, 0.229, 0.229])\n",
    "    ]),\n",
    "    'val': transforms.Compose([\n",
    "        transforms.Resize(224),\n",
    "        transforms.CenterCrop(224),\n",
    "        transforms.ToTensor(),\n",
    "        transforms.Normalize([0.485, 0.485, 0.485], [0.229, 0.229, 0.229])\n",
    "    ]),\n",
    "}\n",
    "\n",
    "# Paths to your datasets\n",
    "nih_images_dir = '/shared/home/jea040/Final_Project/data/NIH_chestxrays/images'  # Path to NIH images\n",
    "nih_labels_csv = '/shared/home/jea040/Final_Project/data/NIH_chestxrays/Data_Entry_2017.csv'  # NIH CSV file\n",
    "\n",
    "# Dataset instances\n",
    "train_dataset = NIHChestXrayDataset(images_dir=nih_images_dir, labels_csv=nih_labels_csv, transform=data_transforms['train'])\n",
    "\n",
    "label_counts = torch.zeros(len(UNIFIED_LABELS), dtype=torch.int32)\n",
    "\n",
    "for label_vector in train_dataset.image_label_dict.values():\n",
    "    label_counts += label_vector.int()\n",
    "\n",
    "# Print results\n",
    "for label, count in zip(UNIFIED_LABELS, label_counts):\n",
    "    print(f\"{label}: {count.item()}\")\n"
   ]
  },
  {
   "cell_type": "markdown",
   "id": "44cf7d56-72d5-4f8e-9638-357052433ebf",
   "metadata": {},
   "source": [
    "Print out samples to ensure that theyre being labeled correctly. Easy to cross check with the csv file."
   ]
  },
  {
   "cell_type": "code",
   "execution_count": 7,
   "id": "f67ebb2c-f42d-4f27-94ba-12c335825afe",
   "metadata": {},
   "outputs": [
    {
     "name": "stdout",
     "output_type": "stream",
     "text": [
      "Image Filename: 00000001_000.png\n",
      "Label Vector: tensor([0., 1., 0., 0., 0., 0., 0., 0.])\n",
      "Image Filename: 00000001_001.png\n",
      "Label Vector: tensor([0., 1., 0., 0., 0., 0., 0., 0.])\n",
      "Image Filename: 00000001_002.png\n",
      "Label Vector: tensor([0., 1., 1., 0., 0., 0., 0., 0.])\n",
      "Image Filename: 00000002_000.png\n",
      "Label Vector: tensor([0., 0., 0., 0., 0., 0., 0., 1.])\n",
      "Image Filename: 00000003_003.png\n",
      "Label Vector: tensor([0., 0., 0., 1., 0., 0., 0., 0.])\n"
     ]
    }
   ],
   "source": [
    "for i in range(5):  # Check the first 5 images in the dataset\n",
    "    sample_image, sample_label_vector = train_dataset[i]\n",
    "    \n",
    "    # Get the image filename (this comes from the image filenames in the dataset)\n",
    "    image_filename = train_dataset.image_filenames[i]\n",
    "    \n",
    "    # Print the image filename and its corresponding label vector\n",
    "    print(f\"Image Filename: {image_filename}\")\n",
    "    print(f\"Label Vector: {sample_label_vector}\")\n"
   ]
  },
  {
   "cell_type": "markdown",
   "id": "00f0c28f-25cc-4bd0-8b07-8bb45167e9e3",
   "metadata": {},
   "source": [
    "They're labeled correctly!!"
   ]
  },
  {
   "cell_type": "markdown",
   "id": "2f4ef131-94e9-40ce-98ab-22fabc1557ed",
   "metadata": {},
   "source": [
    "Now let's define the PadChest dataset"
   ]
  },
  {
   "cell_type": "code",
   "execution_count": 12,
   "id": "e3c53b24-6e11-4d6b-b3de-5876b8ea164e",
   "metadata": {},
   "outputs": [],
   "source": [
    "# Define the unified label set (including \"Normal\")\n",
    "UNIFIED_LABELS_pad = [\n",
    "    \"atelectasis\", \"cardiomegaly\", \"pleural effusion\", \"infiltration\", \n",
    "    \"nodule\", \"consolidation\", \"pleural thickening\", \"Normal\"\n",
    "]\n",
    "\n",
    "# Define the mapping for \"Finding Labels\" to the unified labels\n",
    "LABEL_MAP_pad = {\n",
    "    \"atelectasis\": 0,\n",
    "    \"cardiomegaly\": 1,\n",
    "    \"pleural effusion\": 2,\n",
    "    \"infiltrates\": 3,\n",
    "    \"nodule\": 4,\n",
    "    \"consolidation\": 5,\n",
    "    \"apical pleural thickening\": 6,\n",
    "    \"pleural thickening\": 6,\n",
    "    \"normal\": 7\n",
    "}"
   ]
  },
  {
   "cell_type": "code",
   "execution_count": 13,
   "id": "125fdf13-f31d-41ce-97d1-cc47a3df10ed",
   "metadata": {},
   "outputs": [],
   "source": [
    "class PadChestDataset(Dataset):\n",
    "    def __init__(self, images_dir, labels_csv, transform=None, max_normal=5000):\n",
    "        self.images_dir = images_dir\n",
    "        self.labels_df = pd.read_csv(labels_csv)\n",
    "        self.transform = transform\n",
    "        self.max_normal = max_normal\n",
    "        \n",
    "        # Map image filenames to labels (multi-labels as binary vectors)\n",
    "        self.image_label_dict = self._get_image_labels()\n",
    "        self.image_filenames = list(self.image_label_dict.keys())\n",
    "\n",
    "    def _get_image_labels(self):\n",
    "        image_label_dict = {}\n",
    "        normal_count = 0\n",
    "\n",
    "        for index, row in self.labels_df.iterrows():\n",
    "            image_filename = row['ImageID']  # column with image name\n",
    "            label_vector = torch.zeros(len(UNIFIED_LABELS_pad))\n",
    "            finding_labels = row['label'].split('|')\n",
    "            finding_labels = [label.strip().lower() for label in finding_labels]\n",
    "\n",
    "            valid_labels = [label for label in finding_labels if label in LABEL_MAP_pad]\n",
    "\n",
    "            # Skip if no valid labels\n",
    "            if not valid_labels:\n",
    "                continue\n",
    "\n",
    "            # Check if this is a \"Normal\" image\n",
    "            is_normal = (valid_labels == ['normal'])\n",
    "\n",
    "            if is_normal:\n",
    "                if normal_count >= self.max_normal:\n",
    "                    continue\n",
    "                normal_count += 1\n",
    "                label_vector[LABEL_MAP_pad['normal']] = 1\n",
    "            else:\n",
    "                for label in valid_labels:\n",
    "                    label_vector[LABEL_MAP_pad[label]] = 1\n",
    "\n",
    "            image_label_dict[image_filename] = label_vector\n",
    "\n",
    "        print(f\"Total valid images (after downsampling): {len(image_label_dict)}\")\n",
    "        return image_label_dict\n",
    "\n",
    "    def __len__(self):\n",
    "        return len(self.image_filenames)\n",
    "\n",
    "    def __getitem__(self, idx):\n",
    "        image_filename = self.image_filenames[idx]\n",
    "        image_path = os.path.join(self.images_dir, image_filename)\n",
    "\n",
    "        if not os.path.exists(image_path):\n",
    "            return None\n",
    "        \n",
    "        try:\n",
    "            image = Image.open(image_path).convert('RGB')\n",
    "        except:\n",
    "            return None\n",
    "        \n",
    "        label_vector = self.image_label_dict.get(image_filename, torch.zeros(len(UNIFIED_LABELS_pad)))\n",
    "        \n",
    "        if self.transform:\n",
    "            image = self.transform(image)\n",
    "\n",
    "        return image, label_vector\n"
   ]
  },
  {
   "cell_type": "code",
   "execution_count": 14,
   "id": "ed429da7-6efb-484a-bea5-fb95e9c105b1",
   "metadata": {},
   "outputs": [
    {
     "name": "stdout",
     "output_type": "stream",
     "text": [
      "Total valid images (after downsampling): 2519\n",
      "atelectasis: 47\n",
      "cardiomegaly: 455\n",
      "pleural effusion: 147\n",
      "infiltration: 126\n",
      "nodule: 75\n",
      "consolidation: 19\n",
      "pleural thickening: 194\n",
      "no finding: 1456\n",
      "\n",
      "Total unique images in PadChest master_table.csv: 4555\n"
     ]
    }
   ],
   "source": [
    "from collections import Counter\n",
    "import torch\n",
    "\n",
    "# Define transformations for train and validation datasets\n",
    "data_transforms = {\n",
    "    'train': transforms.Compose([\n",
    "        transforms.RandomResizedCrop(224),\n",
    "        transforms.RandomHorizontalFlip(),\n",
    "        transforms.ToTensor(),\n",
    "        transforms.Normalize([0.485, 0.485, 0.485], [0.229, 0.229, 0.229])\n",
    "    ]),\n",
    "    'val': transforms.Compose([\n",
    "        transforms.Resize(224),\n",
    "        transforms.CenterCrop(224),\n",
    "        transforms.ToTensor(),\n",
    "        transforms.Normalize([0.485, 0.485, 0.485], [0.229, 0.229, 0.229])\n",
    "    ]),\n",
    "}\n",
    "\n",
    "# Paths to your datasets\n",
    "padchest_images_dir = '/shared/home/jea040/Final_Project/data/padchest/images/PadChest_GR'  # Path to PadChest images\n",
    "padchest_labels_csv = '/shared/home/jea040/Final_Project/data/padchest/master_table.csv'  # PadChest CSV file\n",
    "\n",
    "padchest_dataset = PadChestDataset(images_dir=padchest_images_dir, labels_csv=padchest_labels_csv, transform=data_transforms['val'])\n",
    "\n",
    "label_counts = torch.zeros(len(UNIFIED_LABELS), dtype=torch.int32)\n",
    "\n",
    "for label_vector in padchest_dataset.image_label_dict.values():\n",
    "    label_counts += label_vector.int()\n",
    "\n",
    "# Print results\n",
    "for label, count in zip(UNIFIED_LABELS, label_counts):\n",
    "    print(f\"{label}: {count.item()}\")\n",
    "\n",
    "# count unique images in csv file\n",
    "df = pd.read_csv(padchest_labels_csv)\n",
    "unique_image_count = df['ImageID'].nunique()  # or replace 'ImageDir' with the actual column name if different\n",
    "print(f\"\\nTotal unique images in PadChest master_table.csv: {unique_image_count}\")"
   ]
  },
  {
   "cell_type": "code",
   "execution_count": 20,
   "id": "498282a2-1495-477d-b8dc-78974b7834bf",
   "metadata": {},
   "outputs": [
    {
     "name": "stdout",
     "output_type": "stream",
     "text": [
      "Image Filename: 100303250289824462365601716073337204998_42hmtt.png\n",
      "Label Vector: tensor([0., 0., 0., 0., 0., 0., 0., 1.])\n",
      "Image Filename: 100580687092336675079799190012948476945_luafr7.png\n",
      "Label Vector: tensor([0., 0., 0., 0., 0., 0., 0., 1.])\n",
      "Image Filename: 100617721005493358788622515939965631279_fgkwxw.png\n",
      "Label Vector: tensor([0., 0., 0., 0., 0., 0., 0., 1.])\n",
      "Image Filename: 100640384508558964776507219895956147931_71e4k0.png\n",
      "Label Vector: tensor([0., 0., 0., 0., 0., 0., 0., 1.])\n",
      "Image Filename: 100691470462906967644370330516500295793_x403rv.png\n",
      "Label Vector: tensor([0., 0., 0., 0., 0., 0., 0., 1.])\n",
      "Image Filename: 100823948745552785809672956317764747754_kmbl5u.png\n",
      "Label Vector: tensor([0., 0., 0., 0., 0., 0., 0., 1.])\n",
      "Image Filename: 100862492116707318754078191746182622275_obga4m.png\n",
      "Label Vector: tensor([0., 0., 0., 0., 0., 0., 0., 1.])\n",
      "Image Filename: 101120174235725780234709445792984239056_2oib6d.png\n",
      "Label Vector: tensor([0., 0., 0., 0., 0., 0., 1., 0.])\n",
      "Image Filename: 101122960569337640826879088899347121553_hlo4d3.png\n",
      "Label Vector: tensor([0., 0., 0., 0., 0., 0., 0., 1.])\n",
      "Image Filename: 101126299944644944835561376898203180176_2_o5vjuy.png\n",
      "Label Vector: tensor([1., 0., 1., 0., 0., 1., 0., 0.])\n"
     ]
    }
   ],
   "source": [
    "for i in range(10):  # Check the first 5 images in the dataset\n",
    "    sample_image, sample_label_vector = padchest_dataset[i]\n",
    "    \n",
    "    # Get the image filename (this comes from the image filenames in the dataset)\n",
    "    image_filename = padchest_dataset.image_filenames[i]\n",
    "    \n",
    "    # Print the image filename and its corresponding label vector\n",
    "    print(f\"Image Filename: {image_filename}\")\n",
    "    print(f\"Label Vector: {sample_label_vector}\")"
   ]
  },
  {
   "cell_type": "markdown",
   "id": "3f5b4473-3d9d-4585-a9e1-8ba2e0dc2d47",
   "metadata": {},
   "source": [
    "They map correctly!!"
   ]
  },
  {
   "cell_type": "markdown",
   "id": "cc18a80e-3c35-4f6d-917e-500d8ae200e2",
   "metadata": {},
   "source": [
    "Now let's load in these datasets and define the transforms/training model:"
   ]
  },
  {
   "cell_type": "code",
   "execution_count": 15,
   "id": "fc8407ac-eef3-458e-b7ba-80955d6a49bb",
   "metadata": {},
   "outputs": [
    {
     "name": "stdout",
     "output_type": "stream",
     "text": [
      "Total valid images (after downsampling): 48877\n",
      "Total valid images (after downsampling): 2519\n"
     ]
    },
    {
     "name": "stderr",
     "output_type": "stream",
     "text": [
      "/shared/spack/opt/spack/linux-amzn2-skylake_avx512/gcc-14.1.0/miniconda3-24.3.0-zxx5jostrj4myhf7bi3oap3ylkmegd3a/envs/neuro140/lib/python3.11/site-packages/torchvision/models/_utils.py:223: UserWarning: Arguments other than a weight enum or `None` for 'weights' are deprecated since 0.13 and may be removed in the future. The current behavior is equivalent to passing `weights=None`.\n",
      "  warnings.warn(msg)\n"
     ]
    }
   ],
   "source": [
    "# Define transformations for train and validation datasets\n",
    "data_transforms = {\n",
    "    'train': transforms.Compose([\n",
    "        transforms.RandomResizedCrop(224),\n",
    "        transforms.RandomHorizontalFlip(),\n",
    "        transforms.ToTensor(),\n",
    "        transforms.Normalize([0.485, 0.485, 0.485], [0.229, 0.229, 0.229])\n",
    "    ]),\n",
    "    'val': transforms.Compose([\n",
    "        transforms.Resize(224),\n",
    "        transforms.CenterCrop(224),\n",
    "        transforms.ToTensor(),\n",
    "        transforms.Normalize([0.485, 0.485, 0.485], [0.229, 0.229, 0.229])\n",
    "    ]),\n",
    "}\n",
    "\n",
    "# Paths to your datasets\n",
    "nih_images_dir = '/shared/home/jea040/Final_Project/data/NIH_chestxrays/images'  # Path to NIH images\n",
    "padchest_images_dir = '/shared/home/jea040/Final_Project/data/padchest/images/PadChest_GR'  # Path to PadChest images\n",
    "nih_labels_csv = '/shared/home/jea040/Final_Project/data/NIH_chestxrays/Data_Entry_2017.csv'  # NIH CSV file\n",
    "padchest_labels_csv = '/shared/home/jea040/Final_Project/data/padchest/master_table.csv'  # PadChest CSV file\n",
    "\n",
    "# Dataset instances\n",
    "nih_dataset = NIHChestXrayDataset(images_dir=nih_images_dir, labels_csv=nih_labels_csv, transform=data_transforms['train'])\n",
    "padchest_dataset = PadChestDataset(images_dir=padchest_images_dir, labels_csv=padchest_labels_csv, transform=data_transforms['val'])\n",
    "\n",
    "# Split the full_train_dataset into training (80%) and validation (20%) datasets\n",
    "train_size = int(0.8 * len(nih_dataset))\n",
    "val_size = len(nih_dataset) - train_size\n",
    "\n",
    "nih_train, nih_val = random_split(nih_dataset, [train_size, val_size])\n",
    "\n",
    "# make sure that the it's using the right transforms\n",
    "nih_train.dataset.transform = data_transforms['train']\n",
    "nih_val.dataset.transform = data_transforms['val']\n",
    "\n",
    "# DataLoaders for NIH (train) and PadChest (test)\n",
    "train_loader = DataLoader(nih_train, batch_size=32, shuffle=True, num_workers=8)\n",
    "\n",
    "val_loader = DataLoader(nih_val, batch_size=32, shuffle=False, num_workers=8)\n",
    "\n",
    "valspanish_loader = DataLoader(pad_val, batch_size=32, shuffle=False, num_workers=8)\n",
    "\n",
    "# Define the ResNet model\n",
    "model_ft = models.resnet18(weights=False)  # Set pretrained=True if you want pretrained weights\n",
    "num_ftrs = model_ft.fc.in_features\n",
    "model_ft.fc = nn.Linear(num_ftrs, len(UNIFIED_LABELS))  # Number of output labels\n",
    "\n",
    "# Move model to GPU if available\n",
    "device = torch.device(\"cuda\" if torch.cuda.is_available() else \"cpu\")\n",
    "model_ft = model_ft.to(device)\n",
    "\n",
    "# Compute pos_weight using label counts\n",
    "pos_counts = torch.tensor([11559, 2776, 13317, 19894, 6331, 4667, 3385, 5000], dtype=torch.float)\n",
    "total = 48877\n",
    "neg_counts = total - pos_counts\n",
    "pos_weight = (neg_counts / pos_counts).to(device)\n",
    "\n",
    "# Define the loss function with class weights\n",
    "criterion = nn.BCEWithLogitsLoss(pos_weight=pos_weight)\n",
    "\n",
    "optimizer_ft = optim.Adam(model_ft.parameters(), lr=0.0001)\n",
    "\n",
    "# Define the learning rate scheduler function\n",
    "def exp_lr_scheduler(optimizer, epoch, init_lr=0.0001, lr_decay_epoch=10):\n",
    "    lr = init_lr * (0.1**(epoch // lr_decay_epoch))\n",
    "    for param_group in optimizer.param_groups:\n",
    "        param_group['lr'] = lr\n",
    "    return optimizer\n",
    "\n",
    "def train_model(model, criterion, optimizer, lr_scheduler, num_epochs=NUM_EPOCHS, patience=3):\n",
    "    since = time.time()\n",
    "    best_model = copy.deepcopy(model)\n",
    "    best_acc = 0.0\n",
    "    best_loss = float('inf')\n",
    "    no_improve_epochs = 0\n",
    "    printed_debug = False\n",
    "\n",
    "    accuracies = {'train': [], 'val': []}\n",
    "    losses = {'train': [], 'val': []}\n",
    "\n",
    "    for epoch in range(num_epochs):\n",
    "        print('-' * 10)\n",
    "        print(f'Epoch {epoch}/{num_epochs - 1}')\n",
    "        print('-' * 10)\n",
    "\n",
    "        for phase in ['train', 'val']:\n",
    "            if phase == 'train':\n",
    "                optimizer = lr_scheduler(optimizer, epoch)\n",
    "                model.train()\n",
    "                loader = train_loader\n",
    "            else:\n",
    "                model.eval()\n",
    "                loader = val_loader\n",
    "\n",
    "            running_loss = 0.0\n",
    "            running_corrects = 0\n",
    "            total_samples = 0\n",
    "\n",
    "            for inputs, labels in loader:\n",
    "                inputs, labels = inputs.to(device), labels.to(device)\n",
    "                optimizer.zero_grad()\n",
    "\n",
    "                with torch.set_grad_enabled(phase == 'train'):\n",
    "                    outputs = model(inputs)\n",
    "                    outputs = torch.sigmoid(outputs)\n",
    "                    loss = criterion(outputs, labels)\n",
    "                    preds = outputs > 0.5\n",
    "                    running_corrects += (preds == labels).sum().item()\n",
    "                    total_samples += labels.numel()\n",
    "\n",
    "                    if phase == 'train':\n",
    "                        loss.backward()\n",
    "                        torch.nn.utils.clip_grad_norm_(model.parameters(), max_norm=1.0)\n",
    "                        \n",
    "                        if not printed_debug and epoch == 0:\n",
    "                            print(\"Sample predictions (first 10):\", preds[0].detach().cpu().numpy()[:10])\n",
    "                            print(\"Sample labels (first 10):\", labels[0].detach().cpu().numpy()[:10])\n",
    "                            for name, param in model.named_parameters():\n",
    "                                if param.grad is not None:\n",
    "                                    print(f\"{name} grad mean: {param.grad.abs().mean().item():.6f}\")\n",
    "                                    break\n",
    "                            printed_debug = True\n",
    "\n",
    "                        optimizer.step()\n",
    "\n",
    "                running_loss += loss.item() * inputs.size(0)\n",
    "\n",
    "            epoch_loss = running_loss / len(loader.dataset)\n",
    "            epoch_acc = running_corrects / total_samples\n",
    "            print(f'{phase} Loss: {epoch_loss:.4f} Acc: {epoch_acc:.4f}')\n",
    "\n",
    "            losses[phase].append(epoch_loss)\n",
    "            accuracies[phase].append(epoch_acc)\n",
    "\n",
    "            if phase == 'val':\n",
    "                if epoch_loss < best_loss:\n",
    "                    best_loss = epoch_loss\n",
    "                    best_acc = epoch_acc\n",
    "                    best_model = copy.deepcopy(model)\n",
    "                    no_improve_epochs = 0\n",
    "                else:\n",
    "                    no_improve_epochs += 1\n",
    "\n",
    "        if no_improve_epochs >= patience:\n",
    "            print(f\"Early stopping at epoch {epoch} due to no improvement in val loss for {patience} epochs.\")\n",
    "            break\n",
    "\n",
    "    time_elapsed = time.time() - since\n",
    "    print(f'Training complete in {time_elapsed // 60:.0f}m {time_elapsed % 60:.0f}s')\n",
    "    print(f'Best val Acc: {best_acc:.4f}')\n",
    "    return best_model, accuracies, losses\n"
   ]
  },
  {
   "cell_type": "markdown",
   "id": "cc2de2c7-5905-4aee-8e1d-bcaf7399cd9e",
   "metadata": {},
   "source": [
    "Define test function."
   ]
  },
  {
   "cell_type": "code",
   "execution_count": null,
   "id": "8654b90f-3955-47d7-9ea6-14e34ae24b88",
   "metadata": {},
   "outputs": [],
   "source": [
    "def evaluate_model(model, loader, criterion, phase_name=\"val\"):\n",
    "    model.eval()\n",
    "    running_loss = 0.0\n",
    "    running_corrects = 0\n",
    "    total_samples = 0\n",
    "\n",
    "    with torch.no_grad():\n",
    "        for inputs, labels in loader:\n",
    "            inputs, labels = inputs.to(device), labels.to(device)\n",
    "            outputs = model(inputs)\n",
    "            outputs = torch.sigmoid(outputs)\n",
    "            preds = outputs > 0.5\n",
    "            running_corrects += (preds == labels).sum().item()\n",
    "            total_samples += labels.numel()\n",
    "            loss = criterion(outputs, labels)\n",
    "            running_loss += loss.item() * inputs.size(0)\n",
    "\n",
    "    loss = running_loss / len(loader.dataset)\n",
    "    acc = running_corrects / total_samples\n",
    "    print(f\"{phase_name} Loss: {loss:.4f}, Acc: {acc:.4f}\")\n",
    "    return loss, acc"
   ]
  },
  {
   "cell_type": "markdown",
   "id": "55e502b9-0d82-4803-b0d0-ca6312256bb0",
   "metadata": {},
   "source": [
    "Train non-pretrained model on train split of the NIH dataset. Validate on the val split of the NIH dataset."
   ]
  },
  {
   "cell_type": "code",
   "execution_count": 19,
   "id": "84ef4552-be64-4c75-9ff0-9bd6be0b2f7c",
   "metadata": {},
   "outputs": [
    {
     "name": "stdout",
     "output_type": "stream",
     "text": [
      "----------\n",
      "Epoch 0/7\n",
      "----------\n",
      "Sample predictions (first 10): [False False False  True  True  True  True False]\n",
      "Sample labels (first 10): [0. 0. 0. 0. 0. 0. 0. 1.]\n",
      "conv1.weight grad mean: 0.005207\n",
      "train Loss: 1.1283 Acc: 0.7753\n",
      "val Loss: 1.1073 Acc: 0.7686\n",
      "----------\n",
      "Epoch 1/7\n",
      "----------\n",
      "train Loss: 1.1012 Acc: 0.7721\n",
      "val Loss: 1.0859 Acc: 0.7736\n",
      "----------\n",
      "Epoch 2/7\n",
      "----------\n",
      "train Loss: 1.0873 Acc: 0.7748\n",
      "val Loss: 1.0768 Acc: 0.7720\n",
      "----------\n",
      "Epoch 3/7\n",
      "----------\n",
      "train Loss: 1.0786 Acc: 0.7768\n",
      "val Loss: 1.0797 Acc: 0.7739\n",
      "----------\n",
      "Epoch 4/7\n",
      "----------\n",
      "train Loss: 1.0706 Acc: 0.7819\n",
      "val Loss: 1.0732 Acc: 0.7712\n",
      "----------\n",
      "Epoch 5/7\n",
      "----------\n",
      "train Loss: 1.0631 Acc: 0.7867\n",
      "val Loss: 1.0678 Acc: 0.7574\n",
      "----------\n",
      "Epoch 6/7\n",
      "----------\n",
      "train Loss: 1.0553 Acc: 0.7916\n",
      "val Loss: 1.0663 Acc: 0.7814\n",
      "----------\n",
      "Epoch 7/7\n",
      "----------\n",
      "train Loss: 1.0443 Acc: 0.8033\n",
      "val Loss: 1.0671 Acc: 0.7780\n",
      "Training complete in 19m 42s\n",
      "Best val Acc: 0.7814\n"
     ]
    }
   ],
   "source": [
    "# Run the training and testing phases\n",
    "trained_model, accuracies, losses = train_model(model_ft, criterion, optimizer_ft, exp_lr_scheduler, num_epochs=NUM_EPOCHS, val=False)\n",
    "\n",
    "# Save the model\n",
    "torch.save(trained_model.state_dict(), 'nih_model.pt')\n",
    "\n",
    "# Plot accuracy and loss for training and testing\n",
    "epochs = range(NUM_EPOCHS)  # Using NUM_EPOCHS here for consistency\n"
   ]
  },
  {
   "cell_type": "code",
   "execution_count": 3,
   "id": "667fcaca-1f95-4644-ad12-61ca7eb87566",
   "metadata": {},
   "outputs": [],
   "source": [
    "best_non_pretrained_acc = 0.7814"
   ]
  },
  {
   "cell_type": "markdown",
   "id": "8818d75c-fb12-4c66-b3bf-7ce26d85f7a2",
   "metadata": {},
   "source": [
    "We should expect a consistent downward trend with loss and upwards with accuracy."
   ]
  },
  {
   "cell_type": "code",
   "execution_count": 20,
   "id": "b9e109e3-e284-4e55-a56d-cda5a8aea2cb",
   "metadata": {},
   "outputs": [
    {
     "data": {
      "image/png": "[encoded data removed]",
      "text/plain": [
       "<Figure size 640x480 with 1 Axes>"
      ]
     },
     "metadata": {},
     "output_type": "display_data"
    },
    {
     "data": {
      "image/png": "[encoded data removed]",
      "text/plain": [
       "<Figure size 640x480 with 1 Axes>"
      ]
     },
     "metadata": {},
     "output_type": "display_data"
    }
   ],
   "source": [
    "plt.plot(epochs, accuracies['train'], label=\"Training Accuracy\", marker='o')\n",
    "plt.plot(epochs, accuracies['val'], label=\"Validation Accuracy\", marker='o')\n",
    "plt.xlabel(\"Epochs\")\n",
    "plt.ylabel(\"Accuracy\")\n",
    "plt.title(\"Training vs. Validation Accuracy\")\n",
    "plt.legend()\n",
    "plt.show()\n",
    "\n",
    "plt.plot(epochs, losses['train'], label=\"Training Loss\", marker='o')\n",
    "plt.plot(epochs, losses['val'], label=\"Validation Loss\", marker='o')\n",
    "plt.xlabel(\"Epochs\")\n",
    "plt.ylabel(\"Loss\")\n",
    "plt.title(\"Training vs. Validation Loss\")\n",
    "plt.legend()\n",
    "plt.show()\n"
   ]
  },
  {
   "cell_type": "markdown",
   "id": "ba4cfa0e-40e3-4bbf-a269-1471045a7a0c",
   "metadata": {},
   "source": [
    "Test non-pretrained model on PadChest dataset."
   ]
  },
  {
   "cell_type": "code",
   "execution_count": 16,
   "id": "06bd65b0-a87b-4841-a320-80108ade75a4",
   "metadata": {},
   "outputs": [
    {
     "name": "stdout",
     "output_type": "stream",
     "text": [
      "val Loss: 1.5466, Acc: 0.6417\n",
      "Non-Pretrained model\n",
      "Loss: 1.5466093279969384\n",
      "Accuracy: 0.6416500994035785\n"
     ]
    }
   ],
   "source": [
    "path = \"/shared/home/jea040/Final_Project/notebooks/nih_model.pt\"\n",
    "\n",
    "# Step 1: Rebuild model architecture\n",
    "model_ft = models.resnet18(weights=None)\n",
    "num_ftrs = model_ft.fc.in_features\n",
    "model_ft.fc = nn.Linear(num_ftrs, len(UNIFIED_LABELS))  # update this if needed\n",
    "\n",
    "# Step 2: Load weights\n",
    "model_ft.load_state_dict(torch.load(path))\n",
    "\n",
    "# Step 3: Move to device and evaluate\n",
    "model_ft = model_ft.to(device)\n",
    "model_ft.eval()\n",
    "\n",
    "# Step 4: Evaluate\n",
    "non_pretrained_losses, non_pretrained_accuracies = evaluate_model(model_ft, valspanish_loader, criterion)\n",
    "print(\"Non-Pretrained model\")\n",
    "print(f\"Loss: {non_pretrained_losses}\")\n",
    "print(f\"Accuracy: {non_pretrained_accuracies}\")"
   ]
  },
  {
   "cell_type": "markdown",
   "id": "e36bd74d-caec-47e4-be72-50098ad9d9b3",
   "metadata": {},
   "source": [
    "Now with a pretrained model (transfer learning)."
   ]
  },
  {
   "cell_type": "markdown",
   "id": "0006984a-6d18-43f2-87e8-398fe243ab83",
   "metadata": {},
   "source": [
    "Now, train the pretrained ResNet18 model on the test split of the NIH dataset. Validate the model on the val split of the NIH dataset."
   ]
  },
  {
   "cell_type": "code",
   "execution_count": 25,
   "id": "535be9ec-b3d9-40c9-b70f-e876d696341f",
   "metadata": {},
   "outputs": [
    {
     "name": "stdout",
     "output_type": "stream",
     "text": [
      "----------\n",
      "Epoch 0/7\n",
      "----------\n",
      "Sample predictions (first 10): [ True  True False False False False False False]\n",
      "Sample labels (first 10): [0. 0. 0. 1. 0. 0. 0. 0.]\n",
      "conv1.weight grad mean: 0.002808\n",
      "train Loss: 1.0814 Acc: 0.7782\n",
      "val Loss: 1.0574 Acc: 0.7787\n",
      "----------\n",
      "Epoch 1/7\n",
      "----------\n",
      "train Loss: 1.0538 Acc: 0.7953\n",
      "val Loss: 1.0503 Acc: 0.7885\n",
      "----------\n",
      "Epoch 2/7\n",
      "----------\n",
      "train Loss: 1.0361 Acc: 0.8094\n",
      "val Loss: 1.0508 Acc: 0.7928\n",
      "----------\n",
      "Epoch 3/7\n",
      "----------\n",
      "train Loss: 1.0179 Acc: 0.8274\n",
      "val Loss: 1.0481 Acc: 0.7903\n",
      "----------\n",
      "Epoch 4/7\n",
      "----------\n",
      "train Loss: 0.9962 Acc: 0.8480\n",
      "val Loss: 1.0468 Acc: 0.8065\n",
      "----------\n",
      "Epoch 5/7\n",
      "----------\n",
      "train Loss: 0.9780 Acc: 0.8669\n",
      "val Loss: 1.0474 Acc: 0.8175\n",
      "----------\n",
      "Epoch 6/7\n",
      "----------\n",
      "train Loss: 0.9607 Acc: 0.8841\n",
      "val Loss: 1.0485 Acc: 0.8154\n",
      "----------\n",
      "Epoch 7/7\n",
      "----------\n",
      "train Loss: 0.9451 Acc: 0.8998\n",
      "val Loss: 1.0503 Acc: 0.8244\n",
      "Early stopping at epoch 7 due to no improvement in val loss for 3 epochs.\n",
      "Training complete in 18m 55s\n",
      "Best val Acc: 0.8065\n"
     ]
    }
   ],
   "source": [
    "# change to pretrained = true\n",
    "model_ft = models.resnet18(weights=ResNet18_Weights.IMAGENET1K_V1)\n",
    "num_ftrs = model_ft.fc.in_features\n",
    "model_ft.fc = nn.Linear(num_ftrs, len(UNIFIED_LABELS))  # Number of output labels\n",
    "\n",
    "# Move model to GPU if available\n",
    "device = torch.device(\"cuda\" if torch.cuda.is_available() else \"cpu\")\n",
    "model_ft = model_ft.to(device)\n",
    "\n",
    "# Compute pos_weight using label counts\n",
    "pos_counts = torch.tensor([11559, 2776, 13317, 19894, 6331, 4667, 3385, 5000], dtype=torch.float)\n",
    "total = 48877\n",
    "neg_counts = total - pos_counts\n",
    "pos_weight = (neg_counts / pos_counts).to(device)\n",
    "\n",
    "# Define the loss function with class weights\n",
    "criterion = nn.BCEWithLogitsLoss(pos_weight=pos_weight)\n",
    "\n",
    "optimizer_ft = optim.Adam(model_ft.parameters(), lr=0.0001)\n",
    "\n",
    "# Run the training and testing phases\n",
    "trained_model, accuracies, losses = train_model(model_ft, criterion, optimizer_ft, exp_lr_scheduler, num_epochs=NUM_EPOCHS, val=False)\n",
    "\n",
    "# Save the model\n",
    "torch.save(trained_model.state_dict(), 'nih_model_pretrained.pt')\n",
    "\n",
    "# Plot accuracy and loss for training and testing\n",
    "epochs = range(NUM_EPOCHS)  # Using NUM_EPOCHS here for consistency"
   ]
  },
  {
   "cell_type": "code",
   "execution_count": 4,
   "id": "7db90412-122f-4e6f-8465-8d97c7db1ef8",
   "metadata": {},
   "outputs": [],
   "source": [
    "best_pretrained_acc = 0.8244"
   ]
  },
  {
   "cell_type": "markdown",
   "id": "815f32f3-b259-40ef-a0cb-3913c18b0865",
   "metadata": {},
   "source": [
    "We can see some overfitting."
   ]
  },
  {
   "cell_type": "code",
   "execution_count": 26,
   "id": "06b2a69a-254b-46aa-a060-241f5845f1f9",
   "metadata": {},
   "outputs": [
    {
     "data": {
      "image/png": "[encoded data removed]",
      "text/plain": [
       "<Figure size 640x480 with 1 Axes>"
      ]
     },
     "metadata": {},
     "output_type": "display_data"
    },
    {
     "data": {
      "image/png": "[encoded data removed]",
      "text/plain": [
       "<Figure size 640x480 with 1 Axes>"
      ]
     },
     "metadata": {},
     "output_type": "display_data"
    }
   ],
   "source": [
    "plt.plot(epochs, accuracies['train'], label=\"Training Accuracy\", marker='o')\n",
    "plt.plot(epochs, accuracies['val'], label=\"Validation Accuracy\", marker='o')\n",
    "plt.xlabel(\"Epochs\")\n",
    "plt.ylabel(\"Accuracy\")\n",
    "plt.title(\"Training vs. Validation Accuracy\")\n",
    "plt.legend()\n",
    "plt.show()\n",
    "\n",
    "plt.plot(epochs, losses['train'], label=\"Training Loss\", marker='o')\n",
    "plt.plot(epochs, losses['val'], label=\"Validation Loss\", marker='o')\n",
    "plt.xlabel(\"Epochs\")\n",
    "plt.ylabel(\"Loss\")\n",
    "plt.title(\"Training vs. Validation Loss\")\n",
    "plt.legend()\n",
    "plt.show()"
   ]
  },
  {
   "cell_type": "markdown",
   "id": "fc861fbf-07e6-448a-a910-ec9af24fd942",
   "metadata": {},
   "source": [
    "Test the pretrained model on the PadChest dataset."
   ]
  },
  {
   "cell_type": "code",
   "execution_count": 17,
   "id": "d44ad277-4a4e-4ab0-90e9-dc99a323dea0",
   "metadata": {},
   "outputs": [
    {
     "name": "stdout",
     "output_type": "stream",
     "text": [
      "val Loss: 1.5558, Acc: 0.6250\n",
      "Pretrained model\n",
      "Loss: 1.555759789455482\n",
      "Accuracy: 0.625\n"
     ]
    }
   ],
   "source": [
    "path = \"/shared/home/jea040/Final_Project/notebooks/nih_model_pretrained.pt\"\n",
    "\n",
    "# Step 1: Rebuild model architecture\n",
    "model_ft = models.resnet18(weights=None)\n",
    "num_ftrs = model_ft.fc.in_features\n",
    "model_ft.fc = nn.Linear(num_ftrs, len(UNIFIED_LABELS))  # update this if needed\n",
    "\n",
    "# Step 2: Load weights\n",
    "model_ft.load_state_dict(torch.load(path))\n",
    "\n",
    "# Step 3: Move to device and evaluate\n",
    "model_ft = model_ft.to(device)\n",
    "model_ft.eval()\n",
    "\n",
    "# Step 4: Evaluate\n",
    "pretrained_losses, pretrained_accuracies = evaluate_model(model_ft, valspanish_loader, criterion)\n",
    "print(\"Pretrained model\")\n",
    "print(f\"Loss: {pretrained_losses}\")\n",
    "print(f\"Accuracy: {pretrained_accuracies}\")"
   ]
  },
  {
   "cell_type": "markdown",
   "id": "2a9943d9-e5dd-4e88-b784-53fc8600fbc7",
   "metadata": {},
   "source": [
    "Let's redefine the scheduler to work sooner to prevent overfitting!"
   ]
  },
  {
   "cell_type": "code",
   "execution_count": 28,
   "id": "1fd8b6f4-b274-455c-937c-65b28a3457ab",
   "metadata": {},
   "outputs": [],
   "source": [
    "# Define the quicker learning rate scheduler function\n",
    "def quicker_exp_lr_scheduler(optimizer, epoch, init_lr=5e-5, lr_decay_epoch=3):\n",
    "    lr = init_lr * (0.5**(epoch // lr_decay_epoch))  # decay slower and by factor of 0.5\n",
    "    for param_group in optimizer.param_groups:\n",
    "        param_group['lr'] = lr\n",
    "    return optimizer\n"
   ]
  },
  {
   "cell_type": "markdown",
   "id": "bce9138e-4ad1-41ba-bd8d-68d379ed1125",
   "metadata": {},
   "source": [
    "Train the pretrained model on the train split of the NIH dataset, but this time use the scheduler to prevent overfitting. Validate using the val split of the NIH dataset."
   ]
  },
  {
   "cell_type": "code",
   "execution_count": 29,
   "id": "4d6f124a-cbfc-4530-bf0f-8d439b2d5eb2",
   "metadata": {},
   "outputs": [
    {
     "name": "stdout",
     "output_type": "stream",
     "text": [
      "----------\n",
      "Epoch 0/7\n",
      "----------\n",
      "Sample predictions (first 10): [False False False False  True False  True False]\n",
      "Sample labels (first 10): [0. 0. 1. 0. 0. 0. 0. 0.]\n",
      "conv1.weight grad mean: 0.002143\n",
      "train Loss: 1.0850 Acc: 0.7795\n",
      "val Loss: 1.0585 Acc: 0.7769\n",
      "----------\n",
      "Epoch 1/7\n",
      "----------\n",
      "train Loss: 1.0489 Acc: 0.8038\n",
      "val Loss: 1.0476 Acc: 0.7950\n",
      "----------\n",
      "Epoch 2/7\n",
      "----------\n",
      "train Loss: 1.0242 Acc: 0.8249\n",
      "val Loss: 1.0447 Acc: 0.8092\n",
      "----------\n",
      "Epoch 3/7\n",
      "----------\n",
      "train Loss: 0.9884 Acc: 0.8612\n",
      "val Loss: 1.0448 Acc: 0.8196\n",
      "----------\n",
      "Epoch 4/7\n",
      "----------\n",
      "train Loss: 0.9646 Acc: 0.8856\n",
      "val Loss: 1.0497 Acc: 0.8264\n",
      "----------\n",
      "Epoch 5/7\n",
      "----------\n",
      "train Loss: 0.9447 Acc: 0.9046\n",
      "val Loss: 1.0523 Acc: 0.8305\n",
      "Early stopping at epoch 5 due to no improvement in val loss for 3 epochs.\n",
      "Training complete in 14m 12s\n",
      "Best val Acc: 0.8092\n"
     ]
    }
   ],
   "source": [
    "# reset variables\n",
    "model_ft = models.resnet18(weights=ResNet18_Weights.IMAGENET1K_V1)\n",
    "num_ftrs = model_ft.fc.in_features\n",
    "model_ft.fc = nn.Linear(num_ftrs, len(UNIFIED_LABELS))  # Number of output labels\n",
    "\n",
    "# Move model to GPU if available\n",
    "device = torch.device(\"cuda\" if torch.cuda.is_available() else \"cpu\")\n",
    "model_ft = model_ft.to(device)\n",
    "\n",
    "# Compute pos_weight using label counts\n",
    "pos_counts = torch.tensor([11559, 2776, 13317, 19894, 6331, 4667, 3385, 5000], dtype=torch.float)\n",
    "total = 48877\n",
    "neg_counts = total - pos_counts\n",
    "pos_weight = (neg_counts / pos_counts).to(device)\n",
    "\n",
    "# Define the loss function with class weights\n",
    "criterion = nn.BCEWithLogitsLoss(pos_weight=pos_weight)\n",
    "\n",
    "optimizer_ft = optim.Adam(model_ft.parameters(), lr=0.0001)\n",
    "\n",
    "\n",
    "# Run the training and testing phases\n",
    "trained_model, accuracies, losses = train_model(model_ft, criterion, optimizer_ft, quicker_exp_lr_scheduler, num_epochs=NUM_EPOCHS, val=False)\n",
    "\n",
    "# Save the model\n",
    "torch.save(trained_model.state_dict(), 'nih_model_pretrained_scheduled.pt')\n",
    "\n",
    "# Plot accuracy and loss for training and testing\n",
    "epochs = range(NUM_EPOCHS)  # Using NUM_EPOCHS here for consistency"
   ]
  },
  {
   "cell_type": "code",
   "execution_count": 5,
   "id": "600078c2-655e-4970-9a47-00884ec5a47c",
   "metadata": {},
   "outputs": [],
   "source": [
    "best_scheduled_pretrained_acc = 0.8305"
   ]
  },
  {
   "cell_type": "code",
   "execution_count": 30,
   "id": "1f11565f-168f-4277-a6ed-1165cb8b4f9e",
   "metadata": {},
   "outputs": [
    {
     "data": {
      "image/png": "[encoded data removed]",
      "text/plain": [
       "<Figure size 640x480 with 1 Axes>"
      ]
     },
     "metadata": {},
     "output_type": "display_data"
    },
    {
     "data": {
      "image/png": "[encoded data removed]",
      "text/plain": [
       "<Figure size 640x480 with 1 Axes>"
      ]
     },
     "metadata": {},
     "output_type": "display_data"
    }
   ],
   "source": [
    "epochs = range(len(accuracies['train']))  # instead of NUM_EPOCHS\n",
    "\n",
    "plt.plot(epochs, accuracies['train'], label=\"Training Accuracy\", marker='o')\n",
    "plt.plot(epochs, accuracies['val'], label=\"Validation Accuracy\", marker='o')\n",
    "plt.xlabel(\"Epochs\")\n",
    "plt.ylabel(\"Accuracy\")\n",
    "plt.title(\"Training vs. Validation Accuracy\")\n",
    "plt.legend()\n",
    "plt.show()\n",
    "\n",
    "plt.plot(epochs, losses['train'], label=\"Training Loss\", marker='o')\n",
    "plt.plot(epochs, losses['val'], label=\"Validation Loss\", marker='o')\n",
    "plt.xlabel(\"Epochs\")\n",
    "plt.ylabel(\"Loss\")\n",
    "plt.title(\"Training vs. Validation Loss\")\n",
    "plt.legend()\n",
    "plt.show()"
   ]
  },
  {
   "cell_type": "markdown",
   "id": "c2d1dd6a-20d5-4687-a864-cff116425012",
   "metadata": {},
   "source": [
    "Test the pretrained + scheduler model on the PadChest dataset."
   ]
  },
  {
   "cell_type": "code",
   "execution_count": 18,
   "id": "26133fdf-b5f9-4458-8836-6ed327897896",
   "metadata": {},
   "outputs": [
    {
     "name": "stdout",
     "output_type": "stream",
     "text": [
      "val Loss: 1.4652, Acc: 0.8091\n",
      "Scheduler + Pretrained model\n",
      "Loss: 1.4652078618586182\n",
      "Accuracy: 0.8091451292246521\n"
     ]
    }
   ],
   "source": [
    "path = \"/shared/home/jea040/Final_Project/notebooks/nih_model_pretrained_scheduled.pt\"\n",
    "\n",
    "# Step 1: Rebuild model architecture\n",
    "model_ft = models.resnet18(weights=None)\n",
    "num_ftrs = model_ft.fc.in_features\n",
    "model_ft.fc = nn.Linear(num_ftrs, len(UNIFIED_LABELS))  # update this if needed\n",
    "\n",
    "# Step 2: Load weights\n",
    "model_ft.load_state_dict(torch.load(path))\n",
    "\n",
    "# Step 3: Move to device and evaluate\n",
    "model_ft = model_ft.to(device)\n",
    "model_ft.eval()\n",
    "\n",
    "# Step 4: Evaluate\n",
    "pretrained_sched_losses, pretrained_sched_accuracies = evaluate_model(model_ft, valspanish_loader, criterion)\n",
    "print(\"Scheduler + Pretrained model\")\n",
    "print(f\"Loss: {pretrained_sched_losses}\")\n",
    "print(f\"Accuracy: {pretrained_sched_accuracies}\")"
   ]
  },
  {
   "cell_type": "markdown",
   "id": "6f15dc65-3489-458e-9be0-9259be88f2dc",
   "metadata": {},
   "source": [
    "Let's visualize the accuracies of the validation phase and the test phase."
   ]
  },
  {
   "cell_type": "code",
   "execution_count": 7,
   "id": "1fd78ca9-5ebb-4ace-afd3-ab658aa010b8",
   "metadata": {},
   "outputs": [
    {
     "data": {
      "image/png": "[encoded data removed]",
      "text/plain": [
       "<Figure size 640x480 with 1 Axes>"
      ]
     },
     "metadata": {},
     "output_type": "display_data"
    }
   ],
   "source": [
    "# visualizer of the validation phase\n",
    "model = [\"Best Non-pretrained\", \"Best Pretrained\", \"Best Scheduled Pretrained\"]\n",
    "acc = [best_non_pretrained_acc, best_pretrained_acc, best_scheduled_pretrained_acc]\n",
    "\n",
    "plt.bar(model, acc)\n",
    "plt.ylabel(\"Best Accuracy\")\n",
    "plt.title(\"Best Val Accuracies Across Different Model Training Methods\")\n",
    "plt.ylim(0.78, 0.835)\n",
    "plt.show()\n"
   ]
  },
  {
   "cell_type": "code",
   "execution_count": 19,
   "id": "95264301-641d-4c1f-ac4f-e9c8e83cfd3a",
   "metadata": {},
   "outputs": [
    {
     "data": {
      "image/png": "[encoded data removed]",
      "text/plain": [
       "<Figure size 640x480 with 1 Axes>"
      ]
     },
     "metadata": {},
     "output_type": "display_data"
    }
   ],
   "source": [
    "# visualizer of the test phase\n",
    "model = [\"Non-pretrained\", \"Pretrained\", \"Scheduled Pretrained\"]\n",
    "acc = [non_pretrained_accuracies, pretrained_accuracies, pretrained_sched_accuracies]\n",
    "\n",
    "plt.bar(model, acc)\n",
    "plt.ylabel(\"Test Accuracy\")\n",
    "plt.title(\"Best Test Accuracies Across Different Model Training Methods\")\n",
    "plt.ylim(0.62, 0.82)\n",
    "plt.show()"
   ]
  },
  {
   "cell_type": "markdown",
   "id": "6ccbefc9-03c2-4de5-8a69-bfe3f576a1bc",
   "metadata": {},
   "source": [
    "okAAAAAAY let's move on to adversarial training now that we've seen that transfer learning improves accuracy. These are the adversarial transformation functions."
   ]
  },
  {
   "cell_type": "code",
   "execution_count": 37,
   "id": "8ade7d56-6821-4f74-9c3c-4492f80347be",
   "metadata": {},
   "outputs": [],
   "source": [
    "def fgsm_attack(model, images, labels, epsilon):\n",
    "    # Ensure we're working with a fresh tensor that tracks gradients\n",
    "    images = images.clone().detach().requires_grad_(True)\n",
    "    labels = labels.float()  # BCEWithLogitsLoss expects float labels\n",
    "\n",
    "    # Forward pass\n",
    "    outputs = model(images)\n",
    "    loss = nn.BCEWithLogitsLoss()(outputs, labels)\n",
    "\n",
    "    # Backward pass\n",
    "    model.zero_grad()\n",
    "    loss.backward()\n",
    "\n",
    "    # Get gradient and create adversarial image\n",
    "    grad = images.grad.detach()\n",
    "    adv_images = images + epsilon * grad.sign()\n",
    "    adv_images = torch.clamp(adv_images, 0, 1)\n",
    "\n",
    "    return adv_images\n",
    "\n",
    "def bim_attack(model, images, labels, epsilon, alpha, iters):\n",
    "    model.eval()\n",
    "    labels = labels.float()  # for BCEWithLogitsLoss\n",
    "    original = images.clone().detach()\n",
    "    images = original.clone().detach().requires_grad_(True)\n",
    "\n",
    "    for _ in range(iters):\n",
    "        outputs = model(images)\n",
    "        loss = nn.BCEWithLogitsLoss()(outputs, labels)\n",
    "        model.zero_grad()\n",
    "        loss.backward()\n",
    "\n",
    "        # Update with sign of gradient\n",
    "        grad = images.grad.detach()\n",
    "        images = images + alpha * grad.sign()\n",
    "\n",
    "        # Project perturbation to epsilon-ball and clamp to valid pixel range\n",
    "        eta = torch.clamp(images - original, min=-epsilon, max=epsilon)\n",
    "        images = torch.clamp(original + eta, 0, 1).detach().requires_grad_(True)\n",
    "\n",
    "    return images.detach()\n",
    "\n",
    "def pgd_attack(model, images, labels, epsilon, alpha, iters):\n",
    "    model.eval()\n",
    "    labels = labels.float()\n",
    "    original = images.clone().detach()\n",
    "    perturbed = original.clone().detach().requires_grad_(True)\n",
    "\n",
    "    for _ in range(iters):\n",
    "        outputs = model(perturbed)\n",
    "        loss = nn.BCEWithLogitsLoss()(outputs, labels)\n",
    "        model.zero_grad()\n",
    "        loss.backward()\n",
    "\n",
    "        grad = perturbed.grad.detach()\n",
    "        perturbed = perturbed + alpha * grad.sign()\n",
    "\n",
    "        # Project to epsilon ball and clamp\n",
    "        perturbation = torch.clamp(perturbed - original, min=-epsilon, max=epsilon)\n",
    "        perturbed = torch.clamp(original + perturbation, 0, 1).detach().requires_grad_(True)\n",
    "\n",
    "    return perturbed.detach()\n"
   ]
  },
  {
   "cell_type": "code",
   "execution_count": 38,
   "id": "243739b8-acb7-4fc2-a210-f2769fe9126c",
   "metadata": {},
   "outputs": [],
   "source": [
    "# to make the new adversarial NIH datasets\n",
    "def generate_adversarial_dataset(model, loader, attack_fn, **kwargs):\n",
    "    model.eval()\n",
    "    adv_images_list, labels_list = [], []\n",
    "    for images, labels in loader:\n",
    "        images, labels = images.to(device), labels.to(device)\n",
    "        adv_images = attack_fn(model, images, labels, **kwargs)\n",
    "        adv_images_list.append(adv_images.detach().cpu())\n",
    "        labels_list.append(labels.cpu())\n",
    "    return torch.utils.data.TensorDataset(torch.cat(adv_images_list), torch.cat(labels_list))"
   ]
  },
  {
   "cell_type": "markdown",
   "id": "167afb28-a176-4164-8b77-e43c3b9d8d64",
   "metadata": {},
   "source": [
    "Let's augment the NIH dataset to use it as adversarial data."
   ]
  },
  {
   "cell_type": "code",
   "execution_count": 39,
   "id": "c912f499-b4f2-4bb6-ad9c-eac92f6b6a00",
   "metadata": {},
   "outputs": [
    {
     "data": {
      "text/plain": [
       "ResNet(\n",
       "  (conv1): Conv2d(3, 64, kernel_size=(7, 7), stride=(2, 2), padding=(3, 3), bias=False)\n",
       "  (bn1): BatchNorm2d(64, eps=1e-05, momentum=0.1, affine=True, track_running_stats=True)\n",
       "  (relu): ReLU(inplace=True)\n",
       "  (maxpool): MaxPool2d(kernel_size=3, stride=2, padding=1, dilation=1, ceil_mode=False)\n",
       "  (layer1): Sequential(\n",
       "    (0): BasicBlock(\n",
       "      (conv1): Conv2d(64, 64, kernel_size=(3, 3), stride=(1, 1), padding=(1, 1), bias=False)\n",
       "      (bn1): BatchNorm2d(64, eps=1e-05, momentum=0.1, affine=True, track_running_stats=True)\n",
       "      (relu): ReLU(inplace=True)\n",
       "      (conv2): Conv2d(64, 64, kernel_size=(3, 3), stride=(1, 1), padding=(1, 1), bias=False)\n",
       "      (bn2): BatchNorm2d(64, eps=1e-05, momentum=0.1, affine=True, track_running_stats=True)\n",
       "    )\n",
       "    (1): BasicBlock(\n",
       "      (conv1): Conv2d(64, 64, kernel_size=(3, 3), stride=(1, 1), padding=(1, 1), bias=False)\n",
       "      (bn1): BatchNorm2d(64, eps=1e-05, momentum=0.1, affine=True, track_running_stats=True)\n",
       "      (relu): ReLU(inplace=True)\n",
       "      (conv2): Conv2d(64, 64, kernel_size=(3, 3), stride=(1, 1), padding=(1, 1), bias=False)\n",
       "      (bn2): BatchNorm2d(64, eps=1e-05, momentum=0.1, affine=True, track_running_stats=True)\n",
       "    )\n",
       "  )\n",
       "  (layer2): Sequential(\n",
       "    (0): BasicBlock(\n",
       "      (conv1): Conv2d(64, 128, kernel_size=(3, 3), stride=(2, 2), padding=(1, 1), bias=False)\n",
       "      (bn1): BatchNorm2d(128, eps=1e-05, momentum=0.1, affine=True, track_running_stats=True)\n",
       "      (relu): ReLU(inplace=True)\n",
       "      (conv2): Conv2d(128, 128, kernel_size=(3, 3), stride=(1, 1), padding=(1, 1), bias=False)\n",
       "      (bn2): BatchNorm2d(128, eps=1e-05, momentum=0.1, affine=True, track_running_stats=True)\n",
       "      (downsample): Sequential(\n",
       "        (0): Conv2d(64, 128, kernel_size=(1, 1), stride=(2, 2), bias=False)\n",
       "        (1): BatchNorm2d(128, eps=1e-05, momentum=0.1, affine=True, track_running_stats=True)\n",
       "      )\n",
       "    )\n",
       "    (1): BasicBlock(\n",
       "      (conv1): Conv2d(128, 128, kernel_size=(3, 3), stride=(1, 1), padding=(1, 1), bias=False)\n",
       "      (bn1): BatchNorm2d(128, eps=1e-05, momentum=0.1, affine=True, track_running_stats=True)\n",
       "      (relu): ReLU(inplace=True)\n",
       "      (conv2): Conv2d(128, 128, kernel_size=(3, 3), stride=(1, 1), padding=(1, 1), bias=False)\n",
       "      (bn2): BatchNorm2d(128, eps=1e-05, momentum=0.1, affine=True, track_running_stats=True)\n",
       "    )\n",
       "  )\n",
       "  (layer3): Sequential(\n",
       "    (0): BasicBlock(\n",
       "      (conv1): Conv2d(128, 256, kernel_size=(3, 3), stride=(2, 2), padding=(1, 1), bias=False)\n",
       "      (bn1): BatchNorm2d(256, eps=1e-05, momentum=0.1, affine=True, track_running_stats=True)\n",
       "      (relu): ReLU(inplace=True)\n",
       "      (conv2): Conv2d(256, 256, kernel_size=(3, 3), stride=(1, 1), padding=(1, 1), bias=False)\n",
       "      (bn2): BatchNorm2d(256, eps=1e-05, momentum=0.1, affine=True, track_running_stats=True)\n",
       "      (downsample): Sequential(\n",
       "        (0): Conv2d(128, 256, kernel_size=(1, 1), stride=(2, 2), bias=False)\n",
       "        (1): BatchNorm2d(256, eps=1e-05, momentum=0.1, affine=True, track_running_stats=True)\n",
       "      )\n",
       "    )\n",
       "    (1): BasicBlock(\n",
       "      (conv1): Conv2d(256, 256, kernel_size=(3, 3), stride=(1, 1), padding=(1, 1), bias=False)\n",
       "      (bn1): BatchNorm2d(256, eps=1e-05, momentum=0.1, affine=True, track_running_stats=True)\n",
       "      (relu): ReLU(inplace=True)\n",
       "      (conv2): Conv2d(256, 256, kernel_size=(3, 3), stride=(1, 1), padding=(1, 1), bias=False)\n",
       "      (bn2): BatchNorm2d(256, eps=1e-05, momentum=0.1, affine=True, track_running_stats=True)\n",
       "    )\n",
       "  )\n",
       "  (layer4): Sequential(\n",
       "    (0): BasicBlock(\n",
       "      (conv1): Conv2d(256, 512, kernel_size=(3, 3), stride=(2, 2), padding=(1, 1), bias=False)\n",
       "      (bn1): BatchNorm2d(512, eps=1e-05, momentum=0.1, affine=True, track_running_stats=True)\n",
       "      (relu): ReLU(inplace=True)\n",
       "      (conv2): Conv2d(512, 512, kernel_size=(3, 3), stride=(1, 1), padding=(1, 1), bias=False)\n",
       "      (bn2): BatchNorm2d(512, eps=1e-05, momentum=0.1, affine=True, track_running_stats=True)\n",
       "      (downsample): Sequential(\n",
       "        (0): Conv2d(256, 512, kernel_size=(1, 1), stride=(2, 2), bias=False)\n",
       "        (1): BatchNorm2d(512, eps=1e-05, momentum=0.1, affine=True, track_running_stats=True)\n",
       "      )\n",
       "    )\n",
       "    (1): BasicBlock(\n",
       "      (conv1): Conv2d(512, 512, kernel_size=(3, 3), stride=(1, 1), padding=(1, 1), bias=False)\n",
       "      (bn1): BatchNorm2d(512, eps=1e-05, momentum=0.1, affine=True, track_running_stats=True)\n",
       "      (relu): ReLU(inplace=True)\n",
       "      (conv2): Conv2d(512, 512, kernel_size=(3, 3), stride=(1, 1), padding=(1, 1), bias=False)\n",
       "      (bn2): BatchNorm2d(512, eps=1e-05, momentum=0.1, affine=True, track_running_stats=True)\n",
       "    )\n",
       "  )\n",
       "  (avgpool): AdaptiveAvgPool2d(output_size=(1, 1))\n",
       "  (fc): Linear(in_features=512, out_features=8, bias=True)\n",
       ")"
      ]
     },
     "execution_count": 39,
     "metadata": {},
     "output_type": "execute_result"
    }
   ],
   "source": [
    "from torchvision.models import ResNet18_Weights\n",
    "\n",
    "# 1. Rebuild the model architecture\n",
    "model_ft = models.resnet18(weights=ResNet18_Weights.IMAGENET1K_V1)\n",
    "num_ftrs = model_ft.fc.in_features\n",
    "model_ft.fc = nn.Linear(num_ftrs, len(UNIFIED_LABELS))\n",
    "model_ft = model_ft.to(device)\n",
    "\n",
    "# 2. Load weights\n",
    "model_ft.load_state_dict(torch.load('/shared/home/jea040/Final_Project/notebooks/nih_model_pretrained_scheduled.pt'))\n",
    "model_ft.eval()"
   ]
  },
  {
   "cell_type": "code",
   "execution_count": 74,
   "id": "7782c388-397e-417f-a208-dccda75998c6",
   "metadata": {},
   "outputs": [
    {
     "name": "stdout",
     "output_type": "stream",
     "text": [
      "Train dataset size: 39101\n",
      "Label counts: [9220, 2220, 10622, 15882, 5085, 3697, 2705, 4032]\n"
     ]
    }
   ],
   "source": [
    "print(f\"Train dataset size: {len(train_loader.dataset)}\")\n",
    "\n",
    "label_sum = torch.zeros(len(UNIFIED_LABELS))\n",
    "\n",
    "for _, label in train_loader.dataset:\n",
    "    label_sum += label\n",
    "\n",
    "print(\"Label counts:\", label_sum.int().tolist())"
   ]
  },
  {
   "cell_type": "code",
   "execution_count": null,
   "id": "d78745ee-7bd3-4581-9035-1283126d0167",
   "metadata": {},
   "outputs": [],
   "source": [
    "#### DO NOT RUN AGAIN!!!\n",
    "class IndexedDataset(Dataset):\n",
    "    def __init__(self, base_dataset):\n",
    "        self.base_dataset = base_dataset\n",
    "\n",
    "    def __len__(self):\n",
    "        return len(self.base_dataset)\n",
    "\n",
    "    def __getitem__(self, idx):\n",
    "        x, y = self.base_dataset[idx]\n",
    "        return x, y, idx  # returns image, label, and index\n",
    "\n",
    "\n",
    "indexed_train_loader = DataLoader(\n",
    "    IndexedDataset(train_dataset),  # your original train_dataset\n",
    "    batch_size=32,\n",
    "    shuffle=False\n",
    ")\n",
    "\n",
    "adv_train_fgsm = generate_adversarial_dataset(model_ft, train_loader, fgsm_attack, epsilon=0.03)\n",
    "print(\"fgsm done\")\n",
    "adv_train_bim  = generate_adversarial_dataset(model_ft, train_loader, bim_attack,  epsilon=0.03, alpha=0.005, iters=10)\n",
    "print(\"bim done\")\n",
    "adv_train_pgd  = generate_adversarial_dataset(model_ft, train_loader, pgd_attack,  epsilon=0.03, alpha=0.005, iters=10)\n",
    "print(\"pdg done\")"
   ]
  },
  {
   "cell_type": "code",
   "execution_count": null,
   "id": "09038fff-3ce9-4e86-a956-7197bfb13c40",
   "metadata": {},
   "outputs": [],
   "source": [
    "# save datasets\n",
    "torch.save(adv_train_fgsm, 'adv_train_fgsm.pt')\n",
    "torch.save(adv_train_bim,  'adv_train_bim.pt')\n",
    "torch.save(adv_train_pgd,  'adv_train_pgd.pt')"
   ]
  },
  {
   "cell_type": "markdown",
   "id": "a0b166ce-3215-4901-9083-26bff8fe0add",
   "metadata": {},
   "source": [
    "Okay let's train the model on the adv datasets. First let's prep the saved datasets."
   ]
  },
  {
   "cell_type": "code",
   "execution_count": 5,
   "id": "37d9be93-4d32-4ce3-b3b1-a9ce5eed0e67",
   "metadata": {},
   "outputs": [],
   "source": [
    "# Load adversarial datasets\n",
    "adv_train_fgsm = torch.load(\"adv_train_fgsm.pt\")\n",
    "adv_train_bim  = torch.load(\"adv_train_bim.pt\")\n",
    "adv_train_pgd  = torch.load(\"adv_train_pgd.pt\")\n"
   ]
  },
  {
   "cell_type": "code",
   "execution_count": 6,
   "id": "f3a4531b-75e5-4842-83e4-249012fce4bb",
   "metadata": {},
   "outputs": [
    {
     "name": "stdout",
     "output_type": "stream",
     "text": [
      "dataloading done\n"
     ]
    }
   ],
   "source": [
    "# Create DataLoaders\n",
    "batch_size = 32\n",
    "adv_loaders = {\n",
    "    'fgsm': DataLoader(adv_train_fgsm, batch_size=batch_size, shuffle=True, num_workers=4, pin_memory=True),\n",
    "    'bim':  DataLoader(adv_train_bim, batch_size=batch_size, shuffle=True, num_workers=4, pin_memory=True),\n",
    "    'pgd':  DataLoader(adv_train_pgd, batch_size=batch_size, shuffle=True, num_workers=4, pin_memory=True),\n",
    "}\n",
    "print(\"dataloading done\")\n"
   ]
  },
  {
   "cell_type": "markdown",
   "id": "392d9d55-e2cc-469f-9051-71be4b1ca053",
   "metadata": {},
   "source": [
    "Train the pretrained + scheduler model on the adversarial datasets."
   ]
  },
  {
   "cell_type": "code",
   "execution_count": 61,
   "id": "21e96a24-07fe-47d9-81bc-2e1c7efa23d7",
   "metadata": {},
   "outputs": [
    {
     "name": "stdout",
     "output_type": "stream",
     "text": [
      "\n",
      "🔁 Fine-tuning on FGSM adversarial data\n",
      "⏳ Loading model from: /tmp/nih_model.pt\n",
      "✅ Model loaded in 0.22 seconds\n",
      "🚀 Training started...\n",
      "----------\n",
      "Epoch 0/7\n",
      "----------\n",
      "Sample predictions (first 10): [ True False  True False False False False False]\n",
      "Sample labels (first 10): [0. 0. 1. 0. 1. 0. 0. 0.]\n",
      "conv1.weight grad mean: 0.002444\n",
      "train Loss: 1.0198 Acc: 0.8289\n",
      "val Loss: 1.0507 Acc: 0.8066\n",
      "----------\n",
      "Epoch 1/7\n",
      "----------\n",
      "train Loss: 1.0025 Acc: 0.8439\n",
      "val Loss: 1.0554 Acc: 0.8123\n",
      "----------\n",
      "Epoch 2/7\n",
      "----------\n",
      "train Loss: 0.9825 Acc: 0.8623\n",
      "val Loss: 1.0503 Acc: 0.8120\n",
      "----------\n",
      "Epoch 3/7\n",
      "----------\n",
      "train Loss: 0.9665 Acc: 0.8780\n",
      "val Loss: 1.0516 Acc: 0.8131\n",
      "----------\n",
      "Epoch 4/7\n",
      "----------\n",
      "train Loss: 0.9510 Acc: 0.8924\n",
      "val Loss: 1.0553 Acc: 0.8181\n",
      "----------\n",
      "Epoch 5/7\n",
      "----------\n",
      "train Loss: 0.9390 Acc: 0.9046\n",
      "val Loss: 1.0591 Acc: 0.8224\n",
      "Early stopping at epoch 5 due to no improvement in val loss for 3 epochs.\n",
      "Training complete in 16m 2s\n",
      "Best val Acc: 0.8120\n",
      "✅ Training finished in 962.28 seconds\n",
      "💾 Saved fine-tuned model to: /shared/home/jea040/Final_Project/notebooks/model_adv_fgsm_finetuned.pt\n",
      "\n",
      "🔁 Fine-tuning on BIM adversarial data\n",
      "⏳ Loading model from: /tmp/nih_model.pt\n",
      "✅ Model loaded in 0.14 seconds\n",
      "🚀 Training started...\n",
      "----------\n",
      "Epoch 0/7\n",
      "----------\n",
      "Sample predictions (first 10): [False False False False False False  True  True]\n",
      "Sample labels (first 10): [0. 0. 0. 0. 0. 0. 0. 1.]\n",
      "conv1.weight grad mean: 0.002195\n",
      "train Loss: 1.0200 Acc: 0.8279\n",
      "val Loss: 1.0616 Acc: 0.7898\n",
      "----------\n",
      "Epoch 1/7\n",
      "----------\n",
      "train Loss: 1.0022 Acc: 0.8426\n",
      "val Loss: 1.0537 Acc: 0.8111\n",
      "----------\n",
      "Epoch 2/7\n",
      "----------\n",
      "train Loss: 0.9820 Acc: 0.8629\n",
      "val Loss: 1.0495 Acc: 0.8144\n",
      "----------\n",
      "Epoch 3/7\n",
      "----------\n",
      "train Loss: 0.9652 Acc: 0.8800\n",
      "val Loss: 1.0586 Acc: 0.8180\n",
      "----------\n",
      "Epoch 4/7\n",
      "----------\n",
      "train Loss: 0.9511 Acc: 0.8926\n",
      "val Loss: 1.0507 Acc: 0.8157\n",
      "----------\n",
      "Epoch 5/7\n",
      "----------\n",
      "train Loss: 0.9389 Acc: 0.9047\n",
      "val Loss: 1.0556 Acc: 0.8242\n",
      "Early stopping at epoch 5 due to no improvement in val loss for 3 epochs.\n",
      "Training complete in 15m 24s\n",
      "Best val Acc: 0.8144\n",
      "✅ Training finished in 924.00 seconds\n",
      "💾 Saved fine-tuned model to: /shared/home/jea040/Final_Project/notebooks/model_adv_bim_finetuned.pt\n",
      "\n",
      "🔁 Fine-tuning on PGD adversarial data\n",
      "⏳ Loading model from: /tmp/nih_model.pt\n",
      "✅ Model loaded in 0.14 seconds\n",
      "🚀 Training started...\n",
      "----------\n",
      "Epoch 0/7\n",
      "----------\n",
      "Sample predictions (first 10): [False False False False False  True False False]\n",
      "Sample labels (first 10): [0. 0. 0. 0. 0. 1. 0. 0.]\n",
      "conv1.weight grad mean: 0.002181\n",
      "train Loss: 1.0202 Acc: 0.8277\n",
      "val Loss: 1.0535 Acc: 0.8052\n",
      "----------\n",
      "Epoch 1/7\n",
      "----------\n",
      "train Loss: 1.0026 Acc: 0.8437\n",
      "val Loss: 1.0569 Acc: 0.8065\n",
      "----------\n",
      "Epoch 2/7\n",
      "----------\n",
      "train Loss: 0.9837 Acc: 0.8609\n",
      "val Loss: 1.0509 Acc: 0.8027\n",
      "----------\n",
      "Epoch 3/7\n",
      "----------\n",
      "train Loss: 0.9659 Acc: 0.8788\n",
      "val Loss: 1.0556 Acc: 0.8162\n",
      "----------\n",
      "Epoch 4/7\n",
      "----------\n",
      "train Loss: 0.9513 Acc: 0.8929\n",
      "val Loss: 1.0548 Acc: 0.8205\n",
      "----------\n",
      "Epoch 5/7\n",
      "----------\n",
      "train Loss: 0.9398 Acc: 0.9045\n",
      "val Loss: 1.0627 Acc: 0.8123\n",
      "Early stopping at epoch 5 due to no improvement in val loss for 3 epochs.\n",
      "Training complete in 15m 21s\n",
      "Best val Acc: 0.8027\n",
      "✅ Training finished in 921.28 seconds\n",
      "💾 Saved fine-tuned model to: /shared/home/jea040/Final_Project/notebooks/model_adv_pgd_finetuned.pt\n"
     ]
    }
   ],
   "source": [
    "import shutil\n",
    "\n",
    "# Copy model to /tmp for faster loading\n",
    "shutil.copy(\n",
    "    \"/shared/home/jea040/Final_Project/notebooks/nih_model_pretrained_scheduled.pt\",\n",
    "    \"/tmp/nih_model.pt\"\n",
    ")\n",
    "\n",
    "# Define model loading function\n",
    "def load_scheduled_pretrained_model(path):\n",
    "    print(f\"⏳ Loading model from: {path}\")\n",
    "    start = time.time()\n",
    "    \n",
    "    model = resnet18(weights=None)\n",
    "    model.fc = nn.Linear(model.fc.in_features, 8)  # adjust output layer\n",
    "    state_dict = torch.load(path, map_location='cpu')  # prevent GPU load lag\n",
    "    model.load_state_dict(state_dict)\n",
    "    \n",
    "    model = model.to(device)\n",
    "    print(f\"✅ Model loaded in {time.time() - start:.2f} seconds\")\n",
    "    return model\n",
    "\n",
    "# Fine-tune and save for each attack type\n",
    "for name, adv_loader in adv_loaders.items():\n",
    "    print(f\"\\n🔁 Fine-tuning on {name.upper()} adversarial data\")\n",
    "\n",
    "    # Step 1: Load pretrained base model\n",
    "    model_path = \"/tmp/nih_model.pt\"  # or use original path if not copied\n",
    "    model = load_scheduled_pretrained_model(model_path)\n",
    "    \n",
    "    # Step 2: Define optimizer & scheduler\n",
    "    optimizer = optim.Adam(model.parameters(), lr=0.0001)\n",
    "    scheduler = exp_lr_scheduler\n",
    "\n",
    "    # Step 3: Fine-tune on adversarial data\n",
    "    print(\"🚀 Training started...\")\n",
    "    start_train = time.time()\n",
    "    \n",
    "    trained_model, accs, losses = train_model(\n",
    "        model=model,\n",
    "        criterion=criterion,\n",
    "        optimizer=optimizer,\n",
    "        lr_scheduler=scheduler,\n",
    "        num_epochs=NUM_EPOCHS,\n",
    "        val=False\n",
    "    )\n",
    "    \n",
    "    print(f\"✅ Training finished in {time.time() - start_train:.2f} seconds\")\n",
    "\n",
    "    # Step 4: Save fine-tuned model\n",
    "    save_path = f\"/shared/home/jea040/Final_Project/notebooks/model_adv_{name}_finetuned.pt\"\n",
    "    torch.save(trained_model.state_dict(), save_path)\n",
    "    print(f\"💾 Saved fine-tuned model to: {save_path}\")"
   ]
  },
  {
   "cell_type": "markdown",
   "id": "5abd1d17-140f-4ff1-a888-493d658330d4",
   "metadata": {},
   "source": [
    "Test them."
   ]
  },
  {
   "cell_type": "code",
   "execution_count": 62,
   "id": "55673c37-4215-4259-b5b9-8c4c22dd81ad",
   "metadata": {},
   "outputs": [
    {
     "name": "stdout",
     "output_type": "stream",
     "text": [
      "\n",
      "🔍 Loading FGSM model\n",
      "val Loss: 1.4484, Acc: 0.3350\n",
      "FGSM valspanish accuracy: 0.3350\n",
      "\n",
      "🔍 Loading BIM model\n",
      "val Loss: 1.4182, Acc: 0.4627\n",
      "BIM valspanish accuracy: 0.4627\n",
      "\n",
      "🔍 Loading PGD model\n",
      "val Loss: 1.4274, Acc: 0.6379\n",
      "PGD valspanish accuracy: 0.6379\n"
     ]
    }
   ],
   "source": [
    "model_paths = {\n",
    "    'fgsm': 'model_adv_fgsm_finetuned.pt',\n",
    "    'bim':  'model_adv_bim_finetuned.pt',\n",
    "    'pgd':  'model_adv_pgd_finetuned.pt'\n",
    "}\n",
    "\n",
    "for name, path in model_paths.items():\n",
    "    print(f\"\\n🔍 Loading {name.upper()} model\")\n",
    "\n",
    "    # Load state_dict\n",
    "    state_dict = torch.load(path)\n",
    "\n",
    "    # Remove incompatible fc layer (trained on 11 classes)\n",
    "    state_dict.pop('fc.weight', None)\n",
    "    state_dict.pop('fc.bias', None)\n",
    "\n",
    "    # Rebuild model for 8 output classes\n",
    "    model = resnet18(weights=None)\n",
    "    model.fc = nn.Linear(model.fc.in_features, 8)  # or len(UNIFIED_LABELS) if defined\n",
    "\n",
    "    # Load compatible layers\n",
    "    model.load_state_dict(state_dict, strict=False)\n",
    "    model = model.to(device)\n",
    "    model.eval()\n",
    "\n",
    "    # Evaluate (replace with your function)\n",
    "    _, acc = evaluate_model(model, valspanish_loader, criterion)\n",
    "    print(f\"{name.upper()} valspanish accuracy: {acc:.4f}\")\n"
   ]
  },
  {
   "cell_type": "markdown",
   "id": "f591c7f9-1a9b-435e-8e57-2952b8d1bad1",
   "metadata": {},
   "source": [
    "Visualize the accuracies of the testing after adversarial training."
   ]
  },
  {
   "cell_type": "code",
   "execution_count": 64,
   "id": "9159f392-0085-4d4b-b5b6-474adc9a992e",
   "metadata": {},
   "outputs": [
    {
     "name": "stdout",
     "output_type": "stream",
     "text": [
      "NIH Baseline accuracy on PadChest: 0.8119\n",
      "PGD accuracy on PadChest: 0.6379\n",
      "BIM accuracy on PadChest: 0.4627\n",
      "FGSM accuracy on PadChest: 0.3350\n"
     ]
    },
    {
     "data": {
      "image/png": "[encoded data removed]",
      "text/plain": [
       "<Figure size 640x480 with 1 Axes>"
      ]
     },
     "metadata": {},
     "output_type": "display_data"
    }
   ],
   "source": [
    "results = {\n",
    "    \"NIH Baseline\": pretrained_sched_accuracies,\n",
    "    \"FGSM\": 0.3350,\n",
    "    \"BIM\":  0.4627,\n",
    "    \"PGD\":  0.6379\n",
    "}\n",
    "\n",
    "\n",
    "# Print sorted comparison\n",
    "for k, v in sorted(results.items(), key=lambda x: -x[1]):\n",
    "    print(f\"{k} accuracy on PadChest: {v:.4f}\")\n",
    "\n",
    "import matplotlib.pyplot as plt\n",
    "\n",
    "names = list(results.keys())\n",
    "scores = list(results.values())\n",
    "\n",
    "plt.bar(names, scores)\n",
    "plt.ylabel(\"Accuracy on PadChest\")\n",
    "plt.title(\"Adversarially Trained Models – Generalization\")\n",
    "plt.ylim(0.33, 0.82)\n",
    "plt.show()\n"
   ]
  },
  {
   "cell_type": "markdown",
   "id": "019c5892-cd42-4dc6-ba2e-64765420aca9",
   "metadata": {},
   "source": [
    "HOORAY!! First ML project, done :))"
   ]
  }
 ],
 "metadata": {
  "kernelspec": {
   "display_name": "Python 3 (ipykernel)",
   "language": "python",
   "name": "python3"
  },
  "language_info": {
   "codemirror_mode": {
    "name": "ipython",
    "version": 3
   },
   "file_extension": ".py",
   "mimetype": "text/x-python",
   "name": "python",
   "nbconvert_exporter": "python",
   "pygments_lexer": "ipython3",
   "version": "3.11.7"
  }
 },
 "nbformat": 4,
 "nbformat_minor": 5
}
